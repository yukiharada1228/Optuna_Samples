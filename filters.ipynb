{
  "cells": [
    {
      "cell_type": "markdown",
      "metadata": {
        "id": "view-in-github",
        "colab_type": "text"
      },
      "source": [
        "<a href=\"https://colab.research.google.com/github/yukiharada1228/Optuna_Samples/blob/main/filters.ipynb\" target=\"_parent\"><img src=\"https://colab.research.google.com/assets/colab-badge.svg\" alt=\"Open In Colab\"/></a>"
      ]
    },
    {
      "cell_type": "code",
      "source": [
        "# Optunaをインストール\n",
        "!pip install optuna"
      ],
      "metadata": {
        "id": "namY1iihyTGV"
      },
      "execution_count": null,
      "outputs": []
    },
    {
      "cell_type": "code",
      "source": [
        "BATCH_SIZE = 128\n",
        "H = 28\n",
        "W = 28\n",
        "KERNEL_SIZE = 3\n",
        "\n",
        "EPOCH = 20\n",
        "N_TRIALS = 100"
      ],
      "metadata": {
        "id": "nQ39c0YjUjk7"
      },
      "execution_count": null,
      "outputs": []
    },
    {
      "cell_type": "code",
      "source": [
        "# データセットを準備\n",
        "from torch.utils.data import DataLoader\n",
        "from torchvision.datasets import MNIST\n",
        "from torchvision import transforms\n",
        "\n",
        "\n",
        "transform = transforms.Compose([transforms.ToTensor(),])\n",
        "\n",
        "train_set = MNIST(root='./data', train=True, download=True, transform=transform)\n",
        "train_loader = DataLoader(train_set, batch_size=BATCH_SIZE, shuffle=True)\n",
        "\n",
        "test_set = MNIST(root='./data', train=False, download=True, transform=transform)\n",
        "test_loader = DataLoader(test_set, batch_size=BATCH_SIZE, shuffle=False)"
      ],
      "metadata": {
        "id": "pQSnxAdMUBxa"
      },
      "execution_count": null,
      "outputs": []
    },
    {
      "cell_type": "code",
      "source": [
        "# モデルを定義\n",
        "import torch\n",
        "import torch.nn as nn\n",
        "import torch.nn.functional as F\n",
        "\n",
        "\n",
        "class CNN(nn.Module):\n",
        "    def __init__(self, num_filters):\n",
        "        super(CNN, self).__init__()\n",
        "        self.act = F.relu\n",
        "        \n",
        "        self.convs = nn.ModuleList([nn.Conv2d(in_channels=1, out_channels=num_filters[0], kernel_size=KERNEL_SIZE)])\n",
        "        self.out_height = H - KERNEL_SIZE + 1\n",
        "        self.out_width = W - KERNEL_SIZE + 1\n",
        "\n",
        "        self.out_height //= 2\n",
        "        self.out_width //= 2\n",
        "\n",
        "        for i in range(1, 3):\n",
        "            self.convs.append(nn.Conv2d(in_channels=num_filters[i-1], out_channels=num_filters[i], kernel_size=KERNEL_SIZE))\n",
        "            self.out_height -= KERNEL_SIZE - 1\n",
        "            self.out_width -= KERNEL_SIZE - 1\n",
        "\n",
        "            self.out_height //= 2\n",
        "            self.out_width //= 2\n",
        "        \n",
        "        self.pool = nn.MaxPool2d(kernel_size=2, stride=2)\n",
        "\n",
        "        self.out_feature = self.out_height * self.out_width * num_filters[-1]\n",
        "        self.fc1 = nn.Linear(in_features=self.out_feature, out_features=1024)\n",
        "        self.fc2 = nn.Linear(in_features=1024, out_features=10)\n",
        "    \n",
        "    def forward(self, x):\n",
        "        for conv in self.convs:\n",
        "            x = self.pool(self.act(conv(x)))\n",
        "        x = x.view(-1, self.out_feature)\n",
        "        x = self.act(self.fc1(x))\n",
        "        x = self.fc2(x)\n",
        "        return x"
      ],
      "metadata": {
        "id": "pasuwnZFU6RA"
      },
      "execution_count": null,
      "outputs": []
    },
    {
      "cell_type": "code",
      "source": [
        "# 訓練\n",
        "def train(model, device, train_loader, optimizer):\n",
        "  model.train()\n",
        "  for data, target in train_loader:\n",
        "        data, target = data.to(device), target.to(device)\n",
        "        optimizer.zero_grad()\n",
        "        output = model(data)\n",
        "        loss = F.cross_entropy(output, target)\n",
        "        loss.backward()\n",
        "        optimizer.step()\n",
        "# 検証\n",
        "def test(model, device, test_loader):\n",
        "    model.eval()\n",
        "    correct = 0\n",
        "    with torch.no_grad():\n",
        "        for data, target in test_loader:\n",
        "            data, target = data.to(device), target.to(device)\n",
        "            output = model(data)\n",
        "            pred = output.max(1, keepdim=True)[1]\n",
        "            correct += pred.eq(target.view_as(pred)).sum().item()\n",
        "    return 1 - correct / len(test_loader.dataset)"
      ],
      "metadata": {
        "id": "12GRuzy0jMXz"
      },
      "execution_count": null,
      "outputs": []
    },
    {
      "cell_type": "code",
      "source": [
        "# 目的関数\n",
        "def objective(trial):\n",
        "    device = \"cuda\" if torch.cuda.is_available() else \"cpu\" \n",
        "    # フィルタ数の候補\n",
        "    num_filters = [int(trial.suggest_int(\"num_filter_\"+str(i), 256, 1024, 96)) for i in range(3)]  \n",
        "    model = CNN(num_filters).to(device)\n",
        "    optimizer = torch.optim.SGD(model.parameters(), lr=0.01)    \n",
        "    print('device:', device)\n",
        "    print('num_filters:', num_filters)\n",
        "    print('optimizer:', optimizer)  \n",
        "    for step in range(EPOCH):\n",
        "        train(model, device, train_loader, optimizer)\n",
        "        error_rate = test(model, device, test_loader)\n",
        "        print({'step': step, 'acc': str(1-error_rate)})\n",
        "    return error_rate"
      ],
      "metadata": {
        "id": "94YVZJP_kEon"
      },
      "execution_count": null,
      "outputs": []
    },
    {
      "cell_type": "code",
      "source": [
        "# パラメータチューニング実行\n",
        "import optuna\n",
        "optuna.logging.enable_default_handler()\n",
        "\n",
        "\n",
        "study = optuna.create_study()\n",
        "study.optimize(objective, n_trials=N_TRIALS)"
      ],
      "metadata": {
        "id": "bWHFDJb4l7DZ"
      },
      "execution_count": null,
      "outputs": []
    },
    {
      "cell_type": "code",
      "source": [
        "study.best_params"
      ],
      "metadata": {
        "id": "vFZXBwrP1D5J"
      },
      "execution_count": null,
      "outputs": []
    },
    {
      "cell_type": "code",
      "source": [
        "study.best_value"
      ],
      "metadata": {
        "id": "qjduwrgs1ydZ"
      },
      "execution_count": null,
      "outputs": []
    },
    {
      "cell_type": "code",
      "source": [],
      "metadata": {
        "id": "ddnvp1WK46BU"
      },
      "execution_count": null,
      "outputs": []
    }
  ],
  "metadata": {
    "accelerator": "GPU",
    "colab": {
      "provenance": [],
      "authorship_tag": "ABX9TyN0bX2+5ijMkAVgHW3lU9IE",
      "include_colab_link": true
    },
    "gpuClass": "standard",
    "kernelspec": {
      "display_name": "Python 3",
      "name": "python3"
    },
    "language_info": {
      "name": "python"
    }
  },
  "nbformat": 4,
  "nbformat_minor": 0
}